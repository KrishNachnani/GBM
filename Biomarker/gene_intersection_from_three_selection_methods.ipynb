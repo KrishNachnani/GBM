{
  "nbformat": 4,
  "nbformat_minor": 0,
  "metadata": {
    "colab": {
      "provenance": []
    },
    "kernelspec": {
      "name": "python3",
      "display_name": "Python 3"
    },
    "language_info": {
      "name": "python"
    }
  },
  "cells": [
    {
      "cell_type": "code",
      "execution_count": 1,
      "metadata": {
        "id": "wYddVE-lxvWf",
        "colab": {
          "base_uri": "https://localhost:8080/"
        },
        "outputId": "ec4dc4c2-7b5f-451e-b9fd-84f5281ed138"
      },
      "outputs": [
        {
          "output_type": "stream",
          "name": "stdout",
          "text": [
            "Mounted at /content/drive\n"
          ]
        }
      ],
      "source": [
        "from google.colab import drive\n",
        "drive.mount('/content/drive')"
      ]
    },
    {
      "cell_type": "code",
      "source": [
        "PATH = \"/content/drive/Shareddrives/1:1_Krish_Nachnani/2024/Glioblastoma Multiforme -genome data/feat_select_csv\"\n",
        "#PATH = \"/content/drive/Shareddrives/1:1_Krish_Nachnani/2024/Glioblastoma Multiforme -genome data/20feature_select_csv\"\n",
        "#PATH = \"/content/drive/Shareddrives/1:1_Krish_Nachnani/2024/Glioblastoma Multiforme -genome data/40feature_select_csv\""
      ],
      "metadata": {
        "id": "xV2tG6yEx8ad"
      },
      "execution_count": 2,
      "outputs": []
    },
    {
      "cell_type": "code",
      "source": [
        "import pandas as pd\n",
        "import numpy as np\n",
        "import os"
      ],
      "metadata": {
        "id": "Nfei8N0_yWut"
      },
      "execution_count": 3,
      "outputs": []
    },
    {
      "cell_type": "code",
      "source": [
        "def extract_column(csv_path):\n",
        "  df = pd.read_csv(csv_path)\n",
        "  columns = list(df.columns)\n",
        "  required_columns = columns[:-2]\n",
        "  return required_columns"
      ],
      "metadata": {
        "id": "_ay7LfanygEp"
      },
      "execution_count": 4,
      "outputs": []
    },
    {
      "cell_type": "code",
      "source": [
        "processed_columns = {}\n",
        "for csv in os.listdir(PATH):\n",
        "  if not csv.endswith(\".csv\"):\n",
        "    continue\n",
        "  feature_selection_process = csv.split(\".\")[0]\n",
        "  csv_path = os.path.join(PATH, csv)\n",
        "  genes = extract_column(csv_path)\n",
        "  processed_columns[feature_selection_process] = genes\n",
        "\n",
        "print(processed_columns)"
      ],
      "metadata": {
        "id": "4iSFNCqFzhYD",
        "colab": {
          "base_uri": "https://localhost:8080/"
        },
        "outputId": "1e98e2a8-d9f3-4b71-e313-c273921f3d04"
      },
      "execution_count": 5,
      "outputs": [
        {
          "output_type": "stream",
          "name": "stdout",
          "text": [
            "{'Select_K_Best_features': ['ABHD1', 'AMY2A', 'ARL5B', 'ASMTL', 'BMS1P1', 'FRA10AC1', 'CCDC7', 'PEAK3', 'CCNJ', 'CD81', 'CSGALNACT2', 'DNAJC30', 'MGC4342', 'FAM35A', 'SHLD2P3', 'FAM35BP', 'FBXO27', 'GLT6D1', 'KRTAP9-4', 'LCORL', 'LGALS3BP', 'MOSPD3', 'MUL1', 'MYF5', 'MYH4', 'NAGPA', 'NKX2-4', 'OR2T2', 'OR4F17', 'PATE4', 'PCYT2', 'DKFZp564M1863', 'PIGT', 'PTK2B', 'RIMBP3C', 'RLF', 'SCAI', 'SLC18A2', 'SMCP', 'SMPD1', 'SNORA36B', 'UCMA', 'UNC93B1', 'ZBTB6', 'ZNF22', 'ZNF248', 'FLJ23404', 'ZNF510', 'ZNF676', 'ZNF98'], 'RFE_features': ['TSG101', 'CEP41', 'TSNAX-DISC1', 'TSPAN12', 'TSPAN32', 'TTC28', 'TTC3', 'TTN', 'TTYH3', 'UBE2D4', 'UBXN2A', 'UBXN4', 'UCMA', 'UHRF2', 'UNC93B1', 'UROD', 'USP44', 'WBP11', 'WDR53', 'WIPF3', 'WIPI2', 'WNT9A', 'XKR5', 'YIPF4', 'YOD1', 'ZDHHC4', 'ZEB1', 'ZFAND1', 'KIAA0546', 'ZFP28', 'ZFP2', 'ZFP37', 'P1P373C6', 'ZNF100', 'ZNF101', 'ZSCAN26', 'ZNF22', 'HOK-2', 'ZNF248', 'ZNF264', 'ZNF283', 'ZNF354A', 'ZNF354C', 'ZNF367', 'ZNF483', 'ZNF503', 'ZNF510', 'ZNF563', 'ZNF568', 'ZNF572'], 'sequential_feature_selection_features_updated': ['C20orf22', 'ADCK2', 'ARL5B', 'BMPR1A', 'BMS1P1', 'FRA10AC1', 'OGFOD3', 'SPDL1', 'CCNJ', 'CD81', 'CHID1', 'CSGALNACT2', 'DDX58', 'EPC1', 'FBXO27', 'GLT6D1', 'GNB2', 'HFM1', 'IRF7', 'JMJD1C', 'KRTAP9-4', 'LCORL', 'LGALS3BP', 'ZEB1-AS1', 'LINC00669', 'MOSPD3', 'MTPAP', 'MUL1', 'MYH4', 'NAA35', 'NAPSB', 'OR2T2', 'OR4F17', 'PARP12', 'PATE4', 'DFNB23', 'DKFZp564M1863', 'PIGT', 'PSEN2', 'RGS19', 'SCAI', 'SLC18A2', 'SMCP', 'SNORA36B', 'UNC93B1', 'WIPF3', 'ZNF22', 'ZNF248', 'FLJ23404', 'ZNF676']}\n"
          ]
        }
      ]
    },
    {
      "cell_type": "markdown",
      "source": [
        "Create sets"
      ],
      "metadata": {
        "id": "hy8Kmc7VzROi"
      }
    },
    {
      "cell_type": "code",
      "source": [
        "#get dictionary keys\n",
        "dictionary_keys = list(processed_columns.keys())\n",
        "print(dictionary_keys)"
      ],
      "metadata": {
        "id": "dS8yxVe-zaYR",
        "colab": {
          "base_uri": "https://localhost:8080/"
        },
        "outputId": "2d83b506-f0ca-455a-d2d7-fda997e1d634"
      },
      "execution_count": 6,
      "outputs": [
        {
          "output_type": "stream",
          "name": "stdout",
          "text": [
            "['Select_K_Best_features', 'RFE_features', 'sequential_feature_selection_features_updated']\n"
          ]
        }
      ]
    },
    {
      "cell_type": "code",
      "source": [
        "#create sets of features\n",
        "feature_set_one = set(processed_columns[dictionary_keys[0]])\n",
        "feature_set_two = set(processed_columns[dictionary_keys[1]])\n",
        "feature_set_three = set(processed_columns[dictionary_keys[2]])\n",
        "print(feature_set_one)"
      ],
      "metadata": {
        "id": "1sNkplKEzrjX",
        "colab": {
          "base_uri": "https://localhost:8080/"
        },
        "outputId": "a04138dc-15a6-4ad8-d303-781e67fec75f"
      },
      "execution_count": 7,
      "outputs": [
        {
          "output_type": "stream",
          "name": "stdout",
          "text": [
            "{'FAM35BP', 'LCORL', 'OR4F17', 'FBXO27', 'UNC93B1', 'ZNF248', 'RLF', 'SMPD1', 'BMS1P1', 'SMCP', 'CCNJ', 'NKX2-4', 'AMY2A', 'SCAI', 'RIMBP3C', 'SLC18A2', 'ZBTB6', 'FRA10AC1', 'MUL1', 'SNORA36B', 'OR2T2', 'MGC4342', 'LGALS3BP', 'PTK2B', 'CD81', 'DKFZp564M1863', 'PCYT2', 'FAM35A', 'KRTAP9-4', 'DNAJC30', 'ZNF510', 'SHLD2P3', 'NAGPA', 'ASMTL', 'GLT6D1', 'MOSPD3', 'MYF5', 'PATE4', 'FLJ23404', 'ARL5B', 'CCDC7', 'ZNF22', 'ABHD1', 'MYH4', 'UCMA', 'ZNF676', 'CSGALNACT2', 'PIGT', 'ZNF98', 'PEAK3'}\n"
          ]
        }
      ]
    },
    {
      "cell_type": "code",
      "source": [
        "#intersected genes\n",
        "intersected_genes = feature_set_one.intersection(feature_set_two).intersection(feature_set_three)\n",
        "print(intersected_genes)"
      ],
      "metadata": {
        "id": "kY0RU5Lq0Ltt",
        "colab": {
          "base_uri": "https://localhost:8080/"
        },
        "outputId": "4c15a86b-4c8b-421e-b24e-2eb626ac0a97"
      },
      "execution_count": 8,
      "outputs": [
        {
          "output_type": "stream",
          "name": "stdout",
          "text": [
            "{'UNC93B1', 'ZNF248', 'ZNF22'}\n"
          ]
        }
      ]
    }
  ]
}